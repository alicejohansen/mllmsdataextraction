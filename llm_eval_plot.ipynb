{
 "cells": [
  {
   "cell_type": "code",
   "execution_count": 2,
   "metadata": {},
   "outputs": [
    {
     "ename": "OpenAIError",
     "evalue": "Missing credentials. Please pass one of `api_key`, `azure_ad_token`, `azure_ad_token_provider`, or the `AZURE_OPENAI_API_KEY` or `AZURE_OPENAI_AD_TOKEN` environment variables.",
     "output_type": "error",
     "traceback": [
      "\u001b[0;31m---------------------------------------------------------------------------\u001b[0m",
      "\u001b[0;31mOpenAIError\u001b[0m                               Traceback (most recent call last)",
      "Cell \u001b[0;32mIn[2], line 1\u001b[0m\n\u001b[0;32m----> 1\u001b[0m \u001b[38;5;28;01mimport\u001b[39;00m \u001b[38;5;21;01mgeneration\u001b[39;00m\u001b[38;5;241m,\u001b[39m \u001b[38;5;21;01mmetrics\u001b[39;00m\u001b[38;5;241m,\u001b[39m \u001b[38;5;21;01mprompting\u001b[39;00m\u001b[38;5;241m,\u001b[39m \u001b[38;5;21;01mplots\u001b[39;00m\n\u001b[1;32m      2\u001b[0m \u001b[38;5;28;01mfrom\u001b[39;00m \u001b[38;5;21;01mpathlib\u001b[39;00m \u001b[38;5;28;01mimport\u001b[39;00m Path\n",
      "File \u001b[0;32m~/Downloads/dataextract_mllm/notebooks/prompting.py:13\u001b[0m\n\u001b[1;32m     10\u001b[0m load_dotenv()\n\u001b[1;32m     11\u001b[0m \u001b[38;5;28;01mimport\u001b[39;00m \u001b[38;5;21;01mbase64\u001b[39;00m\n\u001b[0;32m---> 13\u001b[0m client \u001b[38;5;241m=\u001b[39m \u001b[43mAzureOpenAI\u001b[49m\u001b[43m(\u001b[49m\n\u001b[1;32m     14\u001b[0m \u001b[43m    \u001b[49m\u001b[43mapi_key\u001b[49m\u001b[38;5;241;43m=\u001b[39;49m\u001b[43mos\u001b[49m\u001b[38;5;241;43m.\u001b[39;49m\u001b[43mgetenv\u001b[49m\u001b[43m(\u001b[49m\u001b[38;5;124;43m'\u001b[39;49m\u001b[38;5;124;43mOPENAI_KEY\u001b[39;49m\u001b[38;5;124;43m'\u001b[39;49m\u001b[43m)\u001b[49m\u001b[43m,\u001b[49m\n\u001b[1;32m     15\u001b[0m \u001b[43m    \u001b[49m\u001b[43mapi_version\u001b[49m\u001b[38;5;241;43m=\u001b[39;49m\u001b[43mos\u001b[49m\u001b[38;5;241;43m.\u001b[39;49m\u001b[43mgetenv\u001b[49m\u001b[43m(\u001b[49m\u001b[38;5;124;43m'\u001b[39;49m\u001b[38;5;124;43mOPENAI_API_VERSION\u001b[39;49m\u001b[38;5;124;43m'\u001b[39;49m\u001b[43m)\u001b[49m\u001b[43m,\u001b[49m\n\u001b[1;32m     16\u001b[0m \u001b[43m    \u001b[49m\u001b[43mazure_endpoint\u001b[49m\u001b[38;5;241;43m=\u001b[39;49m\u001b[43mos\u001b[49m\u001b[38;5;241;43m.\u001b[39;49m\u001b[43mgetenv\u001b[49m\u001b[43m(\u001b[49m\u001b[38;5;124;43m'\u001b[39;49m\u001b[38;5;124;43mOPENAI_ENDPOINT\u001b[39;49m\u001b[38;5;124;43m'\u001b[39;49m\u001b[43m)\u001b[49m\n\u001b[1;32m     17\u001b[0m \u001b[43m)\u001b[49m\n\u001b[1;32m     20\u001b[0m JSON_RESPONSE \u001b[38;5;241m=\u001b[39m {\n\u001b[1;32m     21\u001b[0m     \u001b[38;5;124m\"\u001b[39m\u001b[38;5;124mx\u001b[39m\u001b[38;5;124m\"\u001b[39m: \u001b[38;5;124m\"\u001b[39m\u001b[38;5;124m[1, 2, 3, 4, 5, ...] the x values to be extracted from the chart, which are integers.\u001b[39m\u001b[38;5;124m\"\u001b[39m,\n\u001b[1;32m     22\u001b[0m     \u001b[38;5;124m\"\u001b[39m\u001b[38;5;124my\u001b[39m\u001b[38;5;124m\"\u001b[39m: \u001b[38;5;124m\"\u001b[39m\u001b[38;5;124m[An equivalent quantity of integer values] to be extracted from the chart, the y values from the chart.\u001b[39m\u001b[38;5;124m\"\u001b[39m\n\u001b[1;32m     23\u001b[0m }\n\u001b[1;32m     25\u001b[0m \u001b[38;5;28;01mdef\u001b[39;00m \u001b[38;5;21mconvert_image_to_base64\u001b[39m(image_data):\n",
      "File \u001b[0;32m~/Downloads/dataextract_mllm/.venv/lib/python3.11/site-packages/openai/lib/azure.py:169\u001b[0m, in \u001b[0;36mAzureOpenAI.__init__\u001b[0;34m(self, api_version, azure_endpoint, azure_deployment, api_key, azure_ad_token, azure_ad_token_provider, organization, project, base_url, timeout, max_retries, default_headers, default_query, http_client, _strict_response_validation)\u001b[0m\n\u001b[1;32m    166\u001b[0m     azure_ad_token \u001b[38;5;241m=\u001b[39m os\u001b[38;5;241m.\u001b[39menviron\u001b[38;5;241m.\u001b[39mget(\u001b[38;5;124m\"\u001b[39m\u001b[38;5;124mAZURE_OPENAI_AD_TOKEN\u001b[39m\u001b[38;5;124m\"\u001b[39m)\n\u001b[1;32m    168\u001b[0m \u001b[38;5;28;01mif\u001b[39;00m api_key \u001b[38;5;129;01mis\u001b[39;00m \u001b[38;5;28;01mNone\u001b[39;00m \u001b[38;5;129;01mand\u001b[39;00m azure_ad_token \u001b[38;5;129;01mis\u001b[39;00m \u001b[38;5;28;01mNone\u001b[39;00m \u001b[38;5;129;01mand\u001b[39;00m azure_ad_token_provider \u001b[38;5;129;01mis\u001b[39;00m \u001b[38;5;28;01mNone\u001b[39;00m:\n\u001b[0;32m--> 169\u001b[0m     \u001b[38;5;28;01mraise\u001b[39;00m OpenAIError(\n\u001b[1;32m    170\u001b[0m         \u001b[38;5;124m\"\u001b[39m\u001b[38;5;124mMissing credentials. Please pass one of `api_key`, `azure_ad_token`, `azure_ad_token_provider`, or the `AZURE_OPENAI_API_KEY` or `AZURE_OPENAI_AD_TOKEN` environment variables.\u001b[39m\u001b[38;5;124m\"\u001b[39m\n\u001b[1;32m    171\u001b[0m     )\n\u001b[1;32m    173\u001b[0m \u001b[38;5;28;01mif\u001b[39;00m api_version \u001b[38;5;129;01mis\u001b[39;00m \u001b[38;5;28;01mNone\u001b[39;00m:\n\u001b[1;32m    174\u001b[0m     api_version \u001b[38;5;241m=\u001b[39m os\u001b[38;5;241m.\u001b[39menviron\u001b[38;5;241m.\u001b[39mget(\u001b[38;5;124m\"\u001b[39m\u001b[38;5;124mOPENAI_API_VERSION\u001b[39m\u001b[38;5;124m\"\u001b[39m)\n",
      "\u001b[0;31mOpenAIError\u001b[0m: Missing credentials. Please pass one of `api_key`, `azure_ad_token`, `azure_ad_token_provider`, or the `AZURE_OPENAI_API_KEY` or `AZURE_OPENAI_AD_TOKEN` environment variables."
     ]
    }
   ],
   "source": [
    "import generation, prompting\n",
    "from pathlib import Path\n"
   ]
  },
  {
   "cell_type": "code",
   "execution_count": 12,
   "metadata": {},
   "outputs": [
    {
     "ename": "NameError",
     "evalue": "name 'Path' is not defined",
     "output_type": "error",
     "traceback": [
      "\u001b[0;31m---------------------------------------------------------------------------\u001b[0m",
      "\u001b[0;31mNameError\u001b[0m                                 Traceback (most recent call last)",
      "Cell \u001b[0;32mIn[12], line 2\u001b[0m\n\u001b[1;32m      1\u001b[0m \u001b[38;5;66;03m# paths\u001b[39;00m\n\u001b[0;32m----> 2\u001b[0m curdir \u001b[38;5;241m=\u001b[39m \u001b[43mPath\u001b[49m\u001b[38;5;241m.\u001b[39mcwd()\n\u001b[1;32m      3\u001b[0m bar_batch_truth_data \u001b[38;5;241m=\u001b[39m \u001b[38;5;124mf\u001b[39m\u001b[38;5;124m'\u001b[39m\u001b[38;5;132;01m{\u001b[39;00mcurdir\u001b[38;5;132;01m}\u001b[39;00m\u001b[38;5;124m/DataFreq/Bar/Batch/Truth\u001b[39m\u001b[38;5;124m'\u001b[39m\n\u001b[1;32m      4\u001b[0m line_batch_truth_data \u001b[38;5;241m=\u001b[39m \u001b[38;5;124mf\u001b[39m\u001b[38;5;124m'\u001b[39m\u001b[38;5;132;01m{\u001b[39;00mcurdir\u001b[38;5;132;01m}\u001b[39;00m\u001b[38;5;124m/DataFreq/Line/Batch/Truth\u001b[39m\u001b[38;5;124m'\u001b[39m\n",
      "\u001b[0;31mNameError\u001b[0m: name 'Path' is not defined"
     ]
    }
   ],
   "source": [
    "# paths\n",
    "curdir = Path.cwd()\n",
    "bar_batch_truth_data = f'{curdir}/DataFreq/Bar/Batch/Truth'\n",
    "line_batch_truth_data = f'{curdir}/DataFreq/Line/Batch/Truth'\n",
    "scatter_batch_truth_data = f'{curdir}/DataFreq/Scatter/Batch/Truth'\n",
    "\n",
    "line_plot_drive = f'{curdir}Data//DataFreq/Line/Batch/Plots'\n",
    "bar_plot_drive = f'{curdir}Data//DataFreq/Bar/Batch/Plots'\n",
    "scatter_plot_drive = f'{curdir}Data//DataFreq/Scatter/Batch/Plots'\n",
    "\n",
    "line_response_drive = f'{curdir}Data//DataFreq/Line/Batch/Responses'\n",
    "bar_response_drive = f'{curdir}Data//DataFreq/Bar/Batch/Responses'\n",
    "scatter_response_drive = f'{curdir}Data//DataFreq/Scatter/Batch/Responses'\n",
    "\n",
    "line_json_drive = f'{curdir}Data//DataFreq/Line/Batch/Response_Json'\n",
    "bar_json_drive = f'{curdir}Data//DataFreq/Bar/Batch/Response_Json'\n",
    "scatter_json_drive = f'{curdir}Data//DataFreq/Scatter/Batch/Response_Json'\n",
    "\n",
    "\n"
   ]
  },
  {
   "cell_type": "code",
   "execution_count": null,
   "metadata": {},
   "outputs": [],
   "source": [
    "\n",
    "# trial\n",
    "for trial_number in range(0,26):\n",
    "    # quantity of data\n",
    "    for data_freq in range(5,21):\n",
    "       \n",
    "      # ------ LINE PLOT --------\n",
    "      line_grid_title = f'{trial_number}_line_{data_freq}'\n",
    "      img_path_line = os.path.join(line_plot_drive, f'{line_grid_title}.png')\n",
    "      img_data_line = Image.open(img_path_line).convert(\"RGB\")\n",
    "\n",
    "      prompting.run_experiment(data_freq, img_data_line, image_title=line_grid_title, response_file_path=line_response_drive, json_file_path=line_json_drive) \n",
    "       \n",
    "      # ------ BAR PLOT --------\n",
    "      bar_grid_title = f'{trial_number}_bar_{data_freq}'\n",
    "      img_path_bar = os.path.join(bar_plot_drive, f'{bar_grid_title}.png')\n",
    "      img_data_bar = Image.open(img_path_bar).convert(\"RGB\")\n",
    "\n",
    "      prompting.run_experiment(data_freq, img_data_bar, image_title=bar_grid_title, response_file_path=bar_response_drive, json_file_path=bar_json_drive)\n",
    "\n",
    "      # ------ SCATTER PLOT --------\n",
    "      scatter_grid_title = f'{trial_number}_scatter_{data_freq}'\n",
    "      img_path_scatter = os.path.join(scatter_plot_drive, f'{scatter_grid_title}.png')\n",
    "      img_data_scatter = Image.open(img_path_scatter).convert(\"RGB\")\n",
    "\n",
    "    \n",
    "      prompting.run_experiment(data_freq, img_data_scatter, image_title=scatter_grid_title, response_file_path=scatter_response_drive, json_file_path=scatter_json_drive)"
   ]
  },
  {
   "cell_type": "code",
   "execution_count": 1,
   "metadata": {},
   "outputs": [
    {
     "ename": "NameError",
     "evalue": "name 'metrics' is not defined",
     "output_type": "error",
     "traceback": [
      "\u001b[0;31m---------------------------------------------------------------------------\u001b[0m",
      "\u001b[0;31mNameError\u001b[0m                                 Traceback (most recent call last)",
      "Cell \u001b[0;32mIn[1], line 1\u001b[0m\n\u001b[0;32m----> 1\u001b[0m bar_MAPEs, bar_med_errors, bar_max_errors, avg_bar_mape, avg_bar_mederror, mean_max_bar_error, max_max_bar_error \u001b[38;5;241m=\u001b[39m \u001b[43mmetrics\u001b[49m\u001b[38;5;241m.\u001b[39mmetric_post_processing(\n\u001b[1;32m      2\u001b[0m     \u001b[38;5;124m'\u001b[39m\u001b[38;5;124mbar\u001b[39m\u001b[38;5;124m'\u001b[39m, \u001b[38;5;124mf\u001b[39m\u001b[38;5;124m'\u001b[39m\u001b[38;5;132;01m{\u001b[39;00mcurdir\u001b[38;5;132;01m}\u001b[39;00m\u001b[38;5;124m/aux/DataFreq/Bar/Batch/Truth\u001b[39m\u001b[38;5;124m'\u001b[39m, \u001b[38;5;124mf\u001b[39m\u001b[38;5;124m'\u001b[39m\u001b[38;5;132;01m{\u001b[39;00mcurdir\u001b[38;5;132;01m}\u001b[39;00m\u001b[38;5;124m/aux/DataFreq/Bar/Batch/Response_Json\u001b[39m\u001b[38;5;124m'\u001b[39m)\n\u001b[1;32m      4\u001b[0m line_MAPEs, line_med_errors, max_line_errors, avg_line_mape, avg_line_mederror, mean_max_line_error, max_max_line_error \u001b[38;5;241m=\u001b[39m metrics\u001b[38;5;241m.\u001b[39mmetric_post_processing(\n\u001b[1;32m      5\u001b[0m     \u001b[38;5;124m'\u001b[39m\u001b[38;5;124mline\u001b[39m\u001b[38;5;124m'\u001b[39m, \u001b[38;5;124mf\u001b[39m\u001b[38;5;124m'\u001b[39m\u001b[38;5;132;01m{\u001b[39;00mcurdir\u001b[38;5;132;01m}\u001b[39;00m\u001b[38;5;124m/aux/DataFreq/Line/Batch/Truth\u001b[39m\u001b[38;5;124m'\u001b[39m, \u001b[38;5;124mf\u001b[39m\u001b[38;5;124m'\u001b[39m\u001b[38;5;132;01m{\u001b[39;00mcurdir\u001b[38;5;132;01m}\u001b[39;00m\u001b[38;5;124m/aux/DataFreq/Line/Batch/Response_Json\u001b[39m\u001b[38;5;124m'\u001b[39m)\n\u001b[1;32m      7\u001b[0m scatter_MAPEs, scatter_med_errors, scatter_max_errors, avg_scatter_mape, avg_scatter_mederror, mean_max_scatter_error, max_max_scatter_error \u001b[38;5;241m=\u001b[39m metrics\u001b[38;5;241m.\u001b[39mmetric_post_processing(\n\u001b[1;32m      8\u001b[0m     \u001b[38;5;124m'\u001b[39m\u001b[38;5;124mscatter\u001b[39m\u001b[38;5;124m'\u001b[39m, \u001b[38;5;124mf\u001b[39m\u001b[38;5;124m'\u001b[39m\u001b[38;5;132;01m{\u001b[39;00mcurdir\u001b[38;5;132;01m}\u001b[39;00m\u001b[38;5;124m/aux/DataFreq/Scatter/Batch/Truth\u001b[39m\u001b[38;5;124m'\u001b[39m, \u001b[38;5;124mf\u001b[39m\u001b[38;5;124m'\u001b[39m\u001b[38;5;132;01m{\u001b[39;00mcurdir\u001b[38;5;132;01m}\u001b[39;00m\u001b[38;5;124m/aux/DataFreq/Scatter/Batch/Response_Json\u001b[39m\u001b[38;5;124m'\u001b[39m)\n",
      "\u001b[0;31mNameError\u001b[0m: name 'metrics' is not defined"
     ]
    }
   ],
   "source": []
  },
  {
   "cell_type": "code",
   "execution_count": 9,
   "metadata": {},
   "outputs": [],
   "source": [
    "import metrics, plots\n",
    "from pathlib import Path\n",
    "\n",
    "curdir = Path.cwd()"
   ]
  },
  {
   "cell_type": "code",
   "execution_count": 11,
   "metadata": {},
   "outputs": [
    {
     "ename": "FileNotFoundError",
     "evalue": "[Errno 2] No such file or directory: '/Users/alicejohansen/Downloads/dataextract_mllm/notebooks/Data/DataFreq/Bar/Batch/Truth'",
     "output_type": "error",
     "traceback": [
      "\u001b[0;31m---------------------------------------------------------------------------\u001b[0m",
      "\u001b[0;31mFileNotFoundError\u001b[0m                         Traceback (most recent call last)",
      "Cell \u001b[0;32mIn[11], line 1\u001b[0m\n\u001b[0;32m----> 1\u001b[0m bar_MAPEs, bar_med_errors, bar_max_errors, avg_bar_mape, avg_bar_mederror, mean_max_bar_error, max_max_bar_error \u001b[38;5;241m=\u001b[39m \u001b[43mmetrics\u001b[49m\u001b[38;5;241;43m.\u001b[39;49m\u001b[43mmetric_post_processing\u001b[49m\u001b[43m(\u001b[49m\n\u001b[1;32m      2\u001b[0m \u001b[43m    \u001b[49m\u001b[38;5;124;43m'\u001b[39;49m\u001b[38;5;124;43mbar\u001b[39;49m\u001b[38;5;124;43m'\u001b[39;49m\u001b[43m,\u001b[49m\u001b[43m \u001b[49m\u001b[38;5;124;43mf\u001b[39;49m\u001b[38;5;124;43m'\u001b[39;49m\u001b[38;5;132;43;01m{\u001b[39;49;00m\u001b[43mcurdir\u001b[49m\u001b[38;5;132;43;01m}\u001b[39;49;00m\u001b[38;5;124;43m/Data/DataFreq/Bar/Batch/Truth\u001b[39;49m\u001b[38;5;124;43m'\u001b[39;49m\u001b[43m,\u001b[49m\u001b[43m \u001b[49m\u001b[38;5;124;43mf\u001b[39;49m\u001b[38;5;124;43m'\u001b[39;49m\u001b[38;5;132;43;01m{\u001b[39;49;00m\u001b[43mcurdir\u001b[49m\u001b[38;5;132;43;01m}\u001b[39;49;00m\u001b[38;5;124;43m/Data/DataFreq/Bar/Batch/Response_Json\u001b[39;49m\u001b[38;5;124;43m'\u001b[39;49m\u001b[43m)\u001b[49m\n\u001b[1;32m      4\u001b[0m line_MAPEs, line_med_errors, max_line_errors, avg_line_mape, avg_line_mederror, mean_max_line_error, max_max_line_error \u001b[38;5;241m=\u001b[39m metrics\u001b[38;5;241m.\u001b[39mmetric_post_processing(\n\u001b[1;32m      5\u001b[0m     \u001b[38;5;124m'\u001b[39m\u001b[38;5;124mline\u001b[39m\u001b[38;5;124m'\u001b[39m, \u001b[38;5;124mf\u001b[39m\u001b[38;5;124m'\u001b[39m\u001b[38;5;132;01m{\u001b[39;00mcurdir\u001b[38;5;132;01m}\u001b[39;00m\u001b[38;5;124m/Data/DataFreq/Line/Batch/Truth\u001b[39m\u001b[38;5;124m'\u001b[39m, \u001b[38;5;124mf\u001b[39m\u001b[38;5;124m'\u001b[39m\u001b[38;5;132;01m{\u001b[39;00mcurdir\u001b[38;5;132;01m}\u001b[39;00m\u001b[38;5;124m/Data/DataFreq/Line/Batch/Response_Json\u001b[39m\u001b[38;5;124m'\u001b[39m)\n\u001b[1;32m      7\u001b[0m scatter_MAPEs, scatter_med_errors, scatter_max_errors, avg_scatter_mape, avg_scatter_mederror, mean_max_scatter_error, max_max_scatter_error \u001b[38;5;241m=\u001b[39m metrics\u001b[38;5;241m.\u001b[39mmetric_post_processing(\n\u001b[1;32m      8\u001b[0m     \u001b[38;5;124m'\u001b[39m\u001b[38;5;124mscatter\u001b[39m\u001b[38;5;124m'\u001b[39m, \u001b[38;5;124mf\u001b[39m\u001b[38;5;124m'\u001b[39m\u001b[38;5;132;01m{\u001b[39;00mcurdir\u001b[38;5;132;01m}\u001b[39;00m\u001b[38;5;124m/Data/DataFreq/Scatter/Batch/Truth\u001b[39m\u001b[38;5;124m'\u001b[39m, \u001b[38;5;124mf\u001b[39m\u001b[38;5;124m'\u001b[39m\u001b[38;5;132;01m{\u001b[39;00mcurdir\u001b[38;5;132;01m}\u001b[39;00m\u001b[38;5;124m/Data/DataFreq/Scatter/Batch/Response_Json\u001b[39m\u001b[38;5;124m'\u001b[39m)\n",
      "File \u001b[0;32m~/Downloads/dataextract_mllm/notebooks/metrics.py:279\u001b[0m, in \u001b[0;36mmetric_post_processing\u001b[0;34m(chart_type, truth_json_dir, predicted_json_dir)\u001b[0m\n\u001b[1;32m    266\u001b[0m \u001b[38;5;28;01mdef\u001b[39;00m \u001b[38;5;21mmetric_post_processing\u001b[39m(chart_type, truth_json_dir, predicted_json_dir):\n\u001b[1;32m    267\u001b[0m \u001b[38;5;250m  \u001b[39m\u001b[38;5;124;03m\"\"\"Given the chart type and the truth data and predicted JSON file paths for a batch of trials, read the files \u001b[39;00m\n\u001b[1;32m    268\u001b[0m \u001b[38;5;124;03m        and returns the MAPE, median error and max error metrics. \u001b[39;00m\n\u001b[1;32m    269\u001b[0m \n\u001b[0;32m   (...)\u001b[0m\n\u001b[1;32m    277\u001b[0m \u001b[38;5;124;03m    max_error (float): Maximum absolute error.\u001b[39;00m\n\u001b[1;32m    278\u001b[0m \u001b[38;5;124;03m  \"\"\"\u001b[39;00m\n\u001b[0;32m--> 279\u001b[0m   truth_files \u001b[38;5;241m=\u001b[39m \u001b[43mos\u001b[49m\u001b[38;5;241;43m.\u001b[39;49m\u001b[43mlistdir\u001b[49m\u001b[43m(\u001b[49m\u001b[43mtruth_json_dir\u001b[49m\u001b[43m)\u001b[49m\n\u001b[1;32m    280\u001b[0m   predicted_files \u001b[38;5;241m=\u001b[39m os\u001b[38;5;241m.\u001b[39mlistdir(predicted_json_dir)\n\u001b[1;32m    282\u001b[0m   MAPEs_by_data_frequency \u001b[38;5;241m=\u001b[39m {}\n",
      "\u001b[0;31mFileNotFoundError\u001b[0m: [Errno 2] No such file or directory: '/Users/alicejohansen/Downloads/dataextract_mllm/notebooks/Data/DataFreq/Bar/Batch/Truth'"
     ]
    }
   ],
   "source": [
    "bar_MAPEs, bar_med_errors, bar_max_errors, avg_bar_mape, avg_bar_mederror, mean_max_bar_error, max_max_bar_error = metrics.metric_post_processing(\n",
    "    'bar', f'{curdir}/Data/DataFreq/Bar/Batch/Truth', f'{curdir}/Data/DataFreq/Bar/Batch/Response_Json')\n",
    "\n",
    "line_MAPEs, line_med_errors, max_line_errors, avg_line_mape, avg_line_mederror, mean_max_line_error, max_max_line_error = metrics.metric_post_processing(\n",
    "    'line', f'{curdir}/Data/DataFreq/Line/Batch/Truth', f'{curdir}/Data/DataFreq/Line/Batch/Response_Json')\n",
    "\n",
    "scatter_MAPEs, scatter_med_errors, scatter_max_errors, avg_scatter_mape, avg_scatter_mederror, mean_max_scatter_error, max_max_scatter_error = metrics.metric_post_processing(\n",
    "    'scatter', f'{curdir}/Data/DataFreq/Scatter/Batch/Truth', f'{curdir}/Data/DataFreq/Scatter/Batch/Response_Json')"
   ]
  },
  {
   "cell_type": "code",
   "execution_count": null,
   "metadata": {},
   "outputs": [],
   "source": [
    "# Bar MAPE\n",
    "fig_ = plots.show_plotly_for_mean_sem(bar_MAPEs, title=''), #title='Bar plot ($\\mu_{MAPE}±se$')\n",
    "fig_[0].write_image(f'{Path(os.getcwd())/'plots'}/bar_MAPE_wSE.png', scale=2)"
   ]
  },
  {
   "cell_type": "code",
   "execution_count": null,
   "metadata": {},
   "outputs": [],
   "source": [
    "# Line MAPE\n",
    "fig_ = plots.show_plotly_for_mean_sem(line_MAPEs, title=''), #title='Line plot ($\\mu_{MAPE}±se$')\n",
    "fig_[0].write_image(f'{Path(os.getcwd())/'plots'}/line_MAPE_wSE.png', scale=2)"
   ]
  },
  {
   "cell_type": "code",
   "execution_count": null,
   "metadata": {},
   "outputs": [],
   "source": [
    "# Scatter MAPE\n",
    "fig_ = plots.how_plotly_for_mean_sem(scatter_MAPEs, title=''), #title='Scatter plot ($\\mu_{MAPE}±se$')\n",
    "fig_[0].write_image(f'{Path(os.getcwd())/'plots'}/scatter_MAPE_wSE.png', scale=2)"
   ]
  },
  {
   "cell_type": "code",
   "execution_count": null,
   "metadata": {},
   "outputs": [],
   "source": [
    "# Bar ME\n",
    "fig_ = plots.show_plotly_for_mean_sem(bar_med_errors, title='',yaxis_title = 'Median Abs Error', yaxis_range = [0, 20])\n",
    "fig_.write_image(f'{Path(os.getcwd())/'plots'}/bar_MedE_wSE.png', scale=2)"
   ]
  },
  {
   "cell_type": "code",
   "execution_count": null,
   "metadata": {},
   "outputs": [],
   "source": [
    "# Line ME\n",
    "fig_ = plots.show_plotly_for_mean_sem(line_med_errors, title='',yaxis_title = 'Median Abs Error', yaxis_range = [0, 20])\n",
    "fig_.write_image(f'{Path(os.getcwd())/'plots'}/line_MedE_wSE.png', scale=2)"
   ]
  },
  {
   "cell_type": "code",
   "execution_count": null,
   "metadata": {},
   "outputs": [],
   "source": [
    "# Scatter ME\n",
    "fig_ = plots.show_plotly_for_mean_sem(scatter_med_errors, title='',yaxis_title = 'Median Abs Error', yaxis_range = [0, 20])\n",
    "fig_.write_image(f'{Path(os.getcwd())/'plots'}/scatter_MedE_wSE.png', scale=2)"
   ]
  },
  {
   "cell_type": "code",
   "execution_count": null,
   "metadata": {},
   "outputs": [],
   "source": [
    "# Bar ME\n",
    "fig_ = plots.show_plotly_for_mean_sem(bar_max_errors, title='',yaxis_title = 'Max Abs Error', yaxis_range = [0, 100])\n",
    "fig_.write_image(f'{Path(os.getcwd())/'plots'}/bar_MaxE_wSE.png', scale=2)"
   ]
  },
  {
   "cell_type": "code",
   "execution_count": null,
   "metadata": {},
   "outputs": [],
   "source": [
    "# Line ME\n",
    "fig_ = plots.show_plotly_for_mean_sem(max_line_errors, title='',yaxis_title = 'Max Abs Error', yaxis_range = [0, 100])\n",
    "fig_.write_image(f'{Path(os.getcwd())/'plots'}/line_MaxE_wSE.png', scale=2)"
   ]
  },
  {
   "cell_type": "code",
   "execution_count": null,
   "metadata": {},
   "outputs": [],
   "source": [
    "# Scatter ME\n",
    "fig_ = plots.show_plotly_for_mean_sem(scatter_max_errors, title='',yaxis_title = 'Max Abs Error', yaxis_range = [0, 100])\n",
    "fig_.write_image(f'{Path(os.getcwd())/'plots'}/scatter_MaxE_wSE.png', scale=2)"
   ]
  }
 ],
 "metadata": {
  "kernelspec": {
   "display_name": ".venv",
   "language": "python",
   "name": "python3"
  },
  "language_info": {
   "codemirror_mode": {
    "name": "ipython",
    "version": 3
   },
   "file_extension": ".py",
   "mimetype": "text/x-python",
   "name": "python",
   "nbconvert_exporter": "python",
   "pygments_lexer": "ipython3",
   "version": "3.11.4"
  }
 },
 "nbformat": 4,
 "nbformat_minor": 2
}
